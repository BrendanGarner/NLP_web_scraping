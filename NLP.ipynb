{
 "cells": [
  {
   "cell_type": "markdown",
   "metadata": {},
   "source": [
    "# Natural Languaging Processing \n",
    "### This will perform a Name Entity Recognition to extract key geological terms\n",
    "### This script will also extract key words from each ASX announcement\n",
    "### Brendan Garner - April 2021"
   ]
  },
  {
   "cell_type": "markdown",
   "metadata": {},
   "source": [
    "#### Import the necessary modules for NLP"
   ]
  },
  {
   "cell_type": "code",
   "execution_count": 2,
   "metadata": {},
   "outputs": [],
   "source": [
    "import json\n",
    "import random\n",
    "import spacy\n",
    "from spacy.util import minibatch\n",
    "from spacy.training import Example\n",
    "from sklearn.feature_extraction.text import CountVectorizer, TfidfTransformer\n",
    "from nltk.corpus import stopwords"
   ]
  },
  {
   "cell_type": "markdown",
   "metadata": {},
   "source": [
    "#### Load the Spacy English model"
   ]
  },
  {
   "cell_type": "code",
   "execution_count": 4,
   "metadata": {},
   "outputs": [],
   "source": [
    "nlp = spacy.load('en_core_web_sm')"
   ]
  },
  {
   "cell_type": "markdown",
   "metadata": {},
   "source": [
    "#### Get the pipeline from Spacy"
   ]
  },
  {
   "cell_type": "code",
   "execution_count": 5,
   "metadata": {},
   "outputs": [],
   "source": [
    "ner = nlp.get_pipe(\"ner\")"
   ]
  },
  {
   "cell_type": "markdown",
   "metadata": {},
   "source": [
    "#### Supply the custom training data"
   ]
  },
  {
   "cell_type": "code",
   "execution_count": 6,
   "metadata": {},
   "outputs": [],
   "source": [
    "train = [\n",
    "    (\"the drilling has shown an apparent rolling of the eridanus granodiorite at depth\",\n",
    "     {\"entities\": [(50, 71, \"GEOLOGY\")]}),\n",
    "    (\"the drill hole failed to intersect any fault breccia at the targeted depth but did intersect significant\"\n",
    "     \" high grade gold mineralisation associated with quartz veining in the footwall felsic porphyry below the\"\n",
    "     \" sirdar formation\",\n",
    "     {\"entities\": [(209, 225, \"GEOLOGY\")]}),\n",
    "    (\"four drill rigs are currently on site at the bardoc tectonic zone targeting areas outside of existing resources\",\n",
    "     {\"entities\": [(45, 65, \"GEOLOGY\")]}),\n",
    "    (\"it is interpreted as being on a northerly striking shear that cuts across the kilimanjaro shear zone\",\n",
    "     {\"entities\": [(78, 100, \"GEOLOGY\")]}),\n",
    "    (\"there are four main deposits and a multitude of smaller projects within the km land holding providing a large\"\n",
    "     \" resource base and excellent exploration potential within the prolific norseman wiluna greenstone belt and\"\n",
    "     \" junction of the bardoc tectonic zone btz and the black flag fault\",\n",
    "     {\"entities\": [(265, 281, \"GEOLOGY\")]}),\n",
    "    (\"deeper rc drilling will target along the latecomer fault and the confluence of these trends in the june quarter\",\n",
    "     {\"entities\": [(41, 56, \"GEOLOGY\")]}),\n",
    "    (\"the mineralisation in the zoroastrian area is predominately associated with a complex array of multiple\"\n",
    "     \" dimensional and variable orientated quartz veins and stock works within the differentiated zoroastrian dolerite\",\n",
    "     {\"entities\": [(195, 215, \"GEOLOGY\")]}),\n",
    "    (\"the scotia basalt is a known host of mineralisation at prospects such as jackorite successfully mined by\"\n",
    "     \" excelsior gold\",\n",
    "     {\"entities\": [(4, 17, \"GEOLOGY\")]}),\n",
    "    (\"the yowereena area north of contessa includes the unexplored northern margin of the contessa granite and under\"\n",
    "     \" explored prospective archaean greenstone terrane within a region of major gold endowment and production\",\n",
    "     {\"entities\": [(84, 100, \"GEOLOGY\")]}),\n",
    "    (\"the company is pleased to provide this exploration report for its owned woodline project in the fraser range\"\n",
    "     \" western australia\",\n",
    "     {\"entities\": [(96, 108, \"GEOLOGY\")]}),\n",
    "    (\"the jerdacuttup fault a regional scale structure that is the interpreted boundary between the yilgarn craton and\"\n",
    "     \" the albany fraser orogen\",\n",
    "     {\"entities\": [(4, 21, \"GEOLOGY\"), (94, 108, \"GEOLOGY\"), (117, 137, \"GEOLOGY\")]}),\n",
    "    (\"an extensive soil sampling campaign has commenced at polelle to define drill targets with a particular focus on\"\n",
    "     \" the albury heath shear zone\",\n",
    "     {\"entities\": [(116, 139, \"GEOLOGY\")]}),\n",
    "]"
   ]
  },
  {
   "cell_type": "markdown",
   "metadata": {},
   "source": [
    "#### Add a new label for geological terms"
   ]
  },
  {
   "cell_type": "code",
   "execution_count": 7,
   "metadata": {},
   "outputs": [
    {
     "data": {
      "text/plain": [
       "1"
      ]
     },
     "execution_count": 7,
     "metadata": {},
     "output_type": "execute_result"
    }
   ],
   "source": [
    "ner.add_label(\"GEOLOGY\")"
   ]
  },
  {
   "cell_type": "markdown",
   "metadata": {},
   "source": [
    "#### Disable the other pipes"
   ]
  },
  {
   "cell_type": "code",
   "execution_count": 8,
   "metadata": {},
   "outputs": [],
   "source": [
    "disable_pipes = [pipe for pipe in nlp.pipe_names if pipe != 'ner']"
   ]
  },
  {
   "cell_type": "markdown",
   "metadata": {},
   "source": [
    "#### Train the model 100 times on the training data"
   ]
  },
  {
   "cell_type": "code",
   "execution_count": 9,
   "metadata": {},
   "outputs": [],
   "source": [
    "with nlp.disable_pipes(*disable_pipes):\n",
    "    optimizer = nlp.resume_training()\n",
    "\n",
    "    for iteration in range(100):\n",
    "        random.shuffle(train)\n",
    "        losses = {}\n",
    "\n",
    "        for batch in minibatch(train, size=8):\n",
    "            for text, annotations in batch:\n",
    "                doc = nlp.make_doc(text)\n",
    "                example = Example.from_dict(doc, annotations)\n",
    "                # print(losses)\n",
    "                nlp.update([example], drop=0.35, sgd=optimizer, losses=losses)"
   ]
  },
  {
   "cell_type": "markdown",
   "metadata": {},
   "source": [
    "#### This function will extract key geological terms"
   ]
  },
  {
   "cell_type": "code",
   "execution_count": 30,
   "metadata": {},
   "outputs": [],
   "source": [
    "def find_geology_terms(announcements, random_numbers):\n",
    "    for number in range(len(random_numbers)):\n",
    "        announcement = announcements[number]\n",
    "        doc = nlp(announcement['text'])\n",
    "        geology_terms = list(set([ent.text for ent in doc.ents]))\n",
    "        geology_terms = [term for term in geology_terms if not any(c.isdigit() for c in term)]  # remove any strings with digits\n",
    "        print(geology_terms)\n",
    "    return geology_terms"
   ]
  },
  {
   "cell_type": "markdown",
   "metadata": {},
   "source": [
    "#### Import all of the ASX announcements that were saved to json"
   ]
  },
  {
   "cell_type": "code",
   "execution_count": 31,
   "metadata": {},
   "outputs": [],
   "source": [
    "with open('all_announcements.json') as f:\n",
    "    announcements = json.load(f)  # list of dictionaries"
   ]
  },
  {
   "cell_type": "markdown",
   "metadata": {},
   "source": [
    "#### randomly choose 10 ASX announcements to assess model performance"
   ]
  },
  {
   "cell_type": "code",
   "execution_count": 32,
   "metadata": {},
   "outputs": [],
   "source": [
    "random_numbers = random.sample(range(0, len(announcements)), 10)"
   ]
  },
  {
   "cell_type": "markdown",
   "metadata": {},
   "source": [
    "#### find geology_terms using the trained model"
   ]
  },
  {
   "cell_type": "code",
   "execution_count": 33,
   "metadata": {},
   "outputs": [
    {
     "name": "stdout",
     "output_type": "stream",
     "text": [
      "['Metallurgy.', 'Attachments)', 'Eridanus Block Model', 'Appropriate maps', 'RC  ', 'physically received', 'Eridanus Granodiorite', 'RC chips', 'Deeper exploratory', 'Penny', 'pit  ', 'Eridanus,', 'NSR denotes', 'samples.', 'Eridanus consists', 'PO Box', 'Kevin  ', 'Kevin Seymour', 'spacing  ', 'Die  Hardy  ', 'RAB holes', 'Quality control', 'analysis  ', 'Core samples', 'Hole ID   ', 'Marda gold', 'NQ diamond', 'Notes', 'appropriate  ', 'Tampia Hill', 'Penny deposits', 'ASX since', 'start to', 'main  ', 'and/or repetitions', 'Richard Jones', 'actual results', 'assay laboratory', 'Penny Granodiorite', 'hole  ', 'Hole ID', 'AAS finish', 'mineralised granodiorite', 'main zone', 'DBA aware', 'first results', 'Diamond core', 'ERIDANUS DEEPS', 'holes  ', '-sericite', 'XRF instruments', 'Eridanus mine', 'sample preparation', 'Notes       ', 'Die Hardy Indicated']\n",
      "['inclusion  ', 'Penny North', 'Metallurgy.', 'Mount  Magnet', 'laboratory  ', 'Attachments)', 'length  ', 'Tampia was', 'Holleton/', 'Appropriate maps', 'logging  ', 'RC  ', 'NQ  ', 'Eridanus Granodiorite', 'Mount Magnet', 'physically  ', 'sample collection', 'Single metre', 'single metre', 'Prefeasibility  Study', 'sample  ', 'pit  ', 'NSR denotes', 'samples.', 'longitudinal projection', 'Attachments.', 'PO Box', 'Kevin  ', 'Eastman', '➢  ', 'Tampia pits', 'Tampia', 'diamond holes', 'Kevin Seymour', 'analytical precision', 'host  ', 'spacing  ', 'Archaean gold', 'crops  ', 'Tampia open', 'Tampia/Holleton', 'ASX release', 'Tampia/Symes', 'Penny West', 'm metre', 'first gold', 'Quality control', 'Orion)', 'broader plus', 'Orion)           ', 'Eridanus  Granodiorite', 'broad  ', 'Orion  Prospect', 'attest  ', 'Marda gold', ')  ', 'various  ', 'Edna  ', 'latest  ', 'Tampia  ', 'Tampia the', 'RC and', 'Tampia Hill', 'wheat paddocks', 'AES finish', 'RC holes', 'main  ', 'Westonia/Holleton', 'Orion)  ', 'Penny  ', 'Stage  ', 'Aboriginal  Heritage Act', 'Eridanus.', 'high grade', 'Eridanus and', 'Penny Project', 'Richard Jones', 'Franks Tower', 'Eridanus  ', 'actual results', 'assay laboratory', 'hole  ', 'BOOMER DEEPS', 'Mount  ', 'NE  ', 'host granodiorite', 'mineralised granodiorite', 'Boomer pit', 'AAS finish', 'DBA aware', 'Eridanus deposit', 'Diamond core', 'ERIDANUS DEEPS', 'holes  ', 'Tampia and', '-sericite', 'Orion.', 'XRF instruments', 'core  ', 'Company.', 'blind fault', 'anomalous  ', 'Mt  Hampton Project']\n",
      "['Metallurgy.', 'assay  ', 'laboratory  ', 'Attachments)', 'Shannon long', 'Yandan North', 'Appropriate maps', 'RC  ', 'Shannon.', 'Trace element', 'NQ  ', 'Shannon pit', 'physically received', 'Vivien mineralised', 'Firefly  ', 'Single metre', 'Shannon and', 'main geological', 'Shannon  ', 'sample  ', 'NSR denotes', 'Cosmos  ', 'samples.', 'Shannon   ', 'Attachments.', 'diamond holes', 'Vivien mine', 'ENE plunge', 'supervising geologist', 'Kevin Seymour', 'host  ', 'spacing  ', 'Archaean gold', 'down  ', 'EPM  ', 'appropriate calibration', 'Yandan Nth', 'first gold', 'BIF  ', 'NSR  ', 'RC and', 'Vivien underground', 'Vivien dolerite', 'RC holes', 'Shannon mineralisation', 'RL  ', 'Diamond holes', 'Shannon since', 'QLD  ', 'Aboriginal  Heritage Act', 'ASX.', 'Shannon,', 'x metre', 'Water Tank Hill', 'Shannon deposit', 'actual results', 'hole  ', 'assay data', 'QLD)', 'Qld tenements', 'AAS finish', 'DBA aware', 'Diamond core', 'holes  ', 'broad meaning', 'Mineral  ', 'Shannon is', 'Murchison region', 'XRF instruments', 'broader  ', 'in  ']\n",
      "['next phase', 'TGME,', 'RC rock', 'assay  ', 'Sabie core', 'QAQC samples', 'Appropriate maps', 'RC  ', 'Bentley Project', 'Pilgrim’s', 'historically disadvantaged', 'RC chips', 'bulk densities', 'sulphur  ', 'reverse  ', 'Minxcon geotechnician', 'Grootfontein  ', 'main geological', 'Width m', 'Cyril Ramaphosa', 'sample  ', 'TGME plant', 'Bill Guy', 'samples.', 'Project.', 'CIL plant', 'Browns Hill', 'Au g', 'Bill will', 'Bevetts  ', 'Ashanti  ', 'ANC has', 'likelihood  ', 'quartzitic  footwall', 'SGS Laboratory', 'same mineral', 'TGME gold', 'TGME  ', 'MD  ', 'CAE Studio', 'down  ', 'Theta Hill South', 'AZIM °', 'search employed', 'RC drilling', 'NPV  ', 'Criteria  ', 'Theta Hill', 'vertical orientation', 'reef shear zones', '°  ', 'ASX ANNOUNCEMENT', 'extent  ', 'Excel spreadsheet', 'loan  ', 'Diamond rig', 'valid  ', 'split  ', 'KT  ', 'Grootfonteinberg  ', 'samples  ', 'Minxcon site', 'gravimetric finish', 'data transformations', 'DIP °', 'groups  ', 'forward  ', 'Ventersdorp  ', 'adit positions', 'evaluation  ', 'same  ', 'accredited  laboratory', 'samples to', 'RCBH  ', 'Comments  ', 'Rob Thomson', 'Jack', 'EOH m', 'Minxcon geologist', 'Columbia Hill', 'Bentley  Project', 'hole  ', 'received  ', 'assay data', 'samples in', 'AAS finish', 'KT.', 'Mining Charter', 'Theta Hill North', 'Diamond core', 'Thor  ', 'Bill,', 'status  ', 'orebodies consist', 'methodologies  ', 'broad meaning', 'samples were', 'Mineral  ', 'Shale/Bevetts', 'XRF instruments', 'Simmer', 'in  ', 'QAQC.', 'Rob  Thomson', 'DMR.', 'table  ', 'Project  Area', 'CIL  ', 'Bridge Street', 'Goldman Sachs', 'solid  ', 'BHID  ']\n",
      "['ASX ANNOUNCEMENT', 'HILL       ', 'Columbia Hill', 'TGME,', 'ASX releases', 'Theta  ', 'TGME gold', 'TGME  ', 'ASX  ', 'Theta      Encouraging', 'RC  ', 'ASX release', 'Pilgrim’s', 'ASX announcement', 'next step', 'JORC resource', 'First  ', 'Metallurgical  Testwork  ', 'Rob Thomson', 'Bill Guy', 'Theta Hill', 'Bridge Street', 'shown  ', 'solid  ', 'Theta Hill      Competent Person Statement', 'Columbia  ']\n",
      "['Rietfontein  ', 'next phase', 'TGME,', 'RC rock', 'Sabie core', 'ASX  ', 'QAQC samples', 'Appropriate maps', 'RC  ', 'Bentley Project', 'Pilgrim’s', 'ASX announcement', 'RC chips', 'bulk densities', 'COLUMBIA HILL', 'sulphur  ', 'reverse  ', 'Minxcon geotechnician', 'main geological', 'Africa.', 'sample  ', 'TGME plant', 'Bill Guy', 'samples.', 'Project.', 'Au g', 'SGS Laboratory', 'quartzitic  footwall', 'Theta  ', 'CAE Studio', 'first round', 'ASX release', 'Shale Reef', 'search employed', 'RC drilling', 'Criteria  ', 'assay results', 'section  below', 'Verification  ', 'activities  ', 'Rho reef', 'Theta Hill', 'vertical orientation', 'Columbia  ', 'reef shear zones', 'ASX ANNOUNCEMENT', 'extent  ', 'Excel spreadsheet', 'split  ', 'samples  ', 'Minxcon site', 'gravimetric finish', 'data transformations', 'stage  ', 'Ventersdorp  ', 'adit positions', 'evaluation  ', 'accredited  laboratory', 'samples to', 'Holes  ', 'Engelmann  ', 'Rob Thomson', 'Jack', 'Minxcon geologist', 'Columbia Hill', 'Bentley  Project', 'hole  ', 'assay data', 'Columbia Hill Project', 'samples in', 'samples where', 'AAS finish', 'barren coarse', 'KT.', 'sufficiency  ', 'Diamond core', 'Thor  ', 'Bushveld  ', 'status  ', 'first  ', 'holes  ', 'methodologies  ', 'broad meaning', 'samples were', 'Mineral  ', 'XRF instruments', 'Simmer', 'in  ', 'QAQC.', 'TGME CIL Plant', 'END  ', 'Columbia  Hill', 'Rho  ', 'Project  Area', 'JORC  ', 'Bridge Street', 'spacing ranges', 'solid  ', 'BHID  ']\n",
      "['next phase', 'TGME,', 'ASX on', 'RC rock', 'assay  ', 'Sabie core', 'HILL   ', 'strategy  ', 'QAQC samples', 'Appropriate maps', 'TGME CIL', 'RC  ', 'Bentley Project', 'Pilgrim’s', 'historically disadvantaged', 'RC chips', 'bulk densities', 'sulphur  ', 'reverse  ', 'Minxcon geotechnician', 'Grootfontein  ', 'main geological', 'RC rig', 'shallow  ', 'sample  ', 'TGME plant', 'Bill Guy', 'samples.', 'Project.', 'CIL plant', 'Browns Hill', 'Au g', 'Bevetts  ', 'Ashanti  ', 'SGS Laboratory', 'quartzitic  footwall', 'Theta  ', 'same mineral', 'TGME  ', 'mine  ', 'CAE Studio', 'down  ', 'Theta Hill South', 'first', 'AZIM °', 'search employed', 'RC drilling', 'NPV  ', 'greater degree', 'Verification  ', 'Theta Hill', 'vertical orientation', 'reef shear zones', '°  ', 'ASX ANNOUNCEMENT', 'extent  ', 'Excel spreadsheet', 'valid  ', 'split  ', 'KT  ', 'Grootfonteinberg  ', 'samples  ', 'Minxcon site', 'gravimetric finish', 'data transformations', 'Ventersdorp  ', 'adit positions', 'approximate range', 'evaluation  ', 'accredited  laboratory', 'same  ', 'samples to', 'Rob Thomson', 'Jack', 'EOH m', 'Minxcon geologist', 'Columbia Hill', 'Bentley  Project', 'hole  ', 'assay data', 'samples in', 'AAS finish', 'barren coarse', 'KT.', 'Theta Hill North', 'Diamond core', 'Thor  ', 'status  ', 'orebodies consist', 'first  ', 'holes  ', 'methodologies  ', 'broad meaning', 'CRM  ', 'samples were', 'Mineral  ', 'XRF instruments', 'Simmer', 'in  ', 'QAQC.', 'table  ', 'Project  Area', 'JORC  ', 'Bridge Street', 'solid  ', 'BHID  ']\n"
     ]
    },
    {
     "name": "stdout",
     "output_type": "stream",
     "text": [
      "['ASX ANNOUNCEMENT', 'Rietfontein  ', 'TGME tailings', 'TGME Gold Project', 'TGME,', 'samples  ', 'Frankfort,', 'Jack  ', 'TGME  ', 'base  ', 'RC  ', 'JORC category', 'Pre‐Feasibility  ', 'Pilgrim’s', 'TGME Tailings Dam', 'Beta  ', 'solid  ', 'Pilgrim’s Rest', 'TGME CIL Plant', ',  ', 'first few', 'Rob Thomson', 'Figure  ', 'TGME Pre‐feasibility Study', 'Theta Hill', 'upper  metres', 'Bridge Street', 'Columbia Hill', 'ASX,', '“Dukes Hill', 'Bevett’s']\n",
      "['ASX ANNOUNCEMENT', 'TGME,', 'Phil  ', 'Project  Bentley', 'CIL gold', 'TGME gold', 'NYSE/', 'RC  ', 'ASX release', 'Project  ', 'Pilgrim’s', 'OMT  ', 'TGME)', 'first phase', 'Company’s', 'Asanko open', 'RC rig', 'Theta Hill      ', 'AIM  ', 'shallowest gold', ')  ', 'Rob Thomson', 'Theta Hill', 'CIL  ', 'Bridge Street', 'Columbia Hill', 'solid  ', 'Columbia  ']\n",
      "['main haulages', 'ASX ANNOUNCEMENT', 'backfill paddocks', 'blast  ', 'size fractions', 'Frankfort:', 'Nestor  ', 'samples  ', 'Vaalhoek', 'Southern section', 'Columbia,', 'Malieveld,', 'David Murray', 'first  phase', 'TGME”', 'Bulk test', 'Southern  section', 'Samples  ', 'mine  ', 'first paddock', 'QC procedures', 'Beta concept', 'grainsize  ', 'stoped out', 'single  ', 'stopes.', 'first phase', 'Pilgrim’s Rest', 'whole  ', 'Beta mineral', 'screened fraction', 'economic  ', 'CP,', 'KwaZulu-Natal Province', 'JORC code', 'LoM)', 'ASX from', 'LoM tonnage', 'TGME milled', 'Charles Muller', 'TGME Project', 'second phase', 'size  ', 'bottom towards', 'surveyed  ', 'samples,', 'ASX code', 'sample  ', 'PROTOCOLS  ', 'basis  ', 'added bonus', 'Minxcon  ', 'evaluation routine', 'Bridge Street', 'Beta,', 'grades thereof', 'coarser building', 'mm fraction', 'LoM of', 'LoM in']\n"
     ]
    }
   ],
   "source": [
    "geology_terms = find_geology_terms(announcements, random_numbers)"
   ]
  },
  {
   "cell_type": "markdown",
   "metadata": {},
   "source": [
    "### NLP task 2 - extract keywords from each ASX announcement"
   ]
  },
  {
   "cell_type": "markdown",
   "metadata": {},
   "source": [
    "#### Sort tf-idf scores in descending order"
   ]
  },
  {
   "cell_type": "code",
   "execution_count": 35,
   "metadata": {},
   "outputs": [],
   "source": [
    "def sort_coo(coo_matrix):\n",
    "    tuples = zip(coo_matrix.col, coo_matrix.data)\n",
    "    return sorted(tuples, key=lambda x: (x[1], x[0]), reverse=True)"
   ]
  },
  {
   "cell_type": "markdown",
   "metadata": {},
   "source": [
    "#### This function extracts the feature names with the top 25 tf-idf scores"
   ]
  },
  {
   "cell_type": "code",
   "execution_count": 36,
   "metadata": {},
   "outputs": [],
   "source": [
    "def extract_topn_from_vector(feature_names, sorted_items, topn=25):\n",
    "    # Use only top n items from vector\n",
    "    sorted_items = sorted_items[:topn]\n",
    "    score_vals = []\n",
    "    feature_vals = []\n",
    "\n",
    "    # Word index and corresponding tf-idf score\n",
    "    for idx, score in sorted_items:\n",
    "        # keep track of feature name and its corresponding score\n",
    "        score_vals.append(round(score, 3))\n",
    "        feature_vals.append(feature_names[idx])\n",
    "\n",
    "    # ceate tuples of feature,score\n",
    "    results = {}\n",
    "    for idx in range(len(feature_vals)):\n",
    "        results[feature_vals[idx]] = score_vals[idx]\n",
    "    return results"
   ]
  },
  {
   "cell_type": "markdown",
   "metadata": {},
   "source": [
    "#### Import the corpus saved earlier in json"
   ]
  },
  {
   "cell_type": "code",
   "execution_count": 38,
   "metadata": {},
   "outputs": [],
   "source": [
    "with open('corpus.json') as f:\n",
    "    corpus = json.load(f)"
   ]
  },
  {
   "cell_type": "markdown",
   "metadata": {},
   "source": [
    "#### Tokenize the text and build a vocabulary of known words"
   ]
  },
  {
   "cell_type": "code",
   "execution_count": 39,
   "metadata": {},
   "outputs": [],
   "source": [
    "keywords_list = []\n",
    "stop_words = set(stopwords.words(\"english\"))  # create a set of stopwords\n",
    "cv = CountVectorizer(max_df=0.8, stop_words=stop_words, max_features=15000, ngram_range=(1, 3))\n",
    "X = cv.fit_transform(corpus)"
   ]
  },
  {
   "cell_type": "markdown",
   "metadata": {},
   "source": [
    "#### Get tf-idf score to identify important words"
   ]
  },
  {
   "cell_type": "code",
   "execution_count": 40,
   "metadata": {},
   "outputs": [
    {
     "data": {
      "text/plain": [
       "TfidfTransformer()"
      ]
     },
     "execution_count": 40,
     "metadata": {},
     "output_type": "execute_result"
    }
   ],
   "source": [
    "tfidf_transformer = TfidfTransformer(smooth_idf=True, use_idf=True)\n",
    "tfidf_transformer.fit(X)"
   ]
  },
  {
   "cell_type": "markdown",
   "metadata": {},
   "source": [
    "#### Get feature names"
   ]
  },
  {
   "cell_type": "code",
   "execution_count": 41,
   "metadata": {},
   "outputs": [],
   "source": [
    "feature_names = cv.get_feature_names()"
   ]
  },
  {
   "cell_type": "markdown",
   "metadata": {},
   "source": [
    "#### Print the top 10 keywords for the same 10 randomly selected ASX announcements used in the geology_term extraction"
   ]
  },
  {
   "cell_type": "code",
   "execution_count": 42,
   "metadata": {},
   "outputs": [
    {
     "name": "stdout",
     "output_type": "stream",
     "text": [
      "['buckshot', 'penny', 'eridanus', 'awaited assays awaited', 'awaited assays', 'assays awaited assays', 'awaited', 'assays awaited', 'au', 'nsr']\n",
      "['penny', 'penny west', 'magenta', 'ramelius', 'au', 'eridanus', 'hole', 'edna may', 'edna', 'boomer']\n",
      "['shannon', 'vivien', 'ramelius', 'yandan', 'hole', 'au', 'sample', 'drill', 'reported', 'aircore']\n",
      "['theta', 'reef', 'sample', 'minxcon', 'exploration target', 'theta hill', 'bentley', 'data', 'stonewall', 'abandoned due']\n",
      "['theta', 'theta hill', 'stonewall', 'hill', 'stonewall resources limited', 'stonewall resources', 'columbia hill', 'columbia', 'stonewallresources com', 'stonewallresources']\n",
      "['reef', 'columbia hill', 'columbia', 'sample', 'minxcon', 'exploration target', 'dec', 'data', 'hill', 'stonewall']\n",
      "['rock chips rc', 'chips rc rock', 'chips rc', 'rc rock', 'reef', 'rock chips', 'rc rock chips', 'theta', 'sample', 'minxcon']\n",
      "['tgme', 'hill', 'stonewall', 'theta', 'columbia hill', 'columbia', 'rietfontein', 'dam', 'theta hill', 'tailings']\n",
      "['theta', 'theta hill', 'hill', 'stonewall', 'bentley', 'stonewall resources limited', 'stonewall resources', 'open cut', 'minxcon', 'stonewallresources com']\n",
      "['reef', 'reef residue', 'beta', 'beta mine', 'coldstream', 'residue', 'pillars', 'stonewall', 'faces', 'minxcon']\n"
     ]
    }
   ],
   "source": [
    "for number in range(len(random_numbers)):\n",
    "    announcement = announcements[number]\n",
    "    # Generate tf-idf for the given document\n",
    "    tf_idf_vector = tfidf_transformer.transform(cv.transform([announcement['text']]))\n",
    "\n",
    "    # Sort the tf-idf vectors by descending order of scores\n",
    "    sorted_items = sort_coo(tf_idf_vector.tocoo())\n",
    "\n",
    "    # Eetract only the top 10\n",
    "    keywords = extract_topn_from_vector(feature_names, sorted_items, 10)  # dictionary with word: tf-idf score\n",
    "    keywords = list(keywords.keys())\n",
    "    print(keywords)"
   ]
  },
  {
   "cell_type": "code",
   "execution_count": null,
   "metadata": {},
   "outputs": [],
   "source": []
  }
 ],
 "metadata": {
  "kernelspec": {
   "display_name": "Python 3",
   "language": "python",
   "name": "python3"
  },
  "language_info": {
   "codemirror_mode": {
    "name": "ipython",
    "version": 3
   },
   "file_extension": ".py",
   "mimetype": "text/x-python",
   "name": "python",
   "nbconvert_exporter": "python",
   "pygments_lexer": "ipython3",
   "version": "3.8.5"
  }
 },
 "nbformat": 4,
 "nbformat_minor": 4
}
