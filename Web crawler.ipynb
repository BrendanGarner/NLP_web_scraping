{
 "cells": [
  {
   "cell_type": "markdown",
   "metadata": {},
   "source": [
    "# Web crawler\n",
    "### This will extract the constituents list of the ASX Gold Companies, fetch market capitalisation and website addresses before searching for ASX announcements relating to exploration programs.\n",
    "### Brendan Garner - April 2021"
   ]
  },
  {
   "cell_type": "markdown",
   "metadata": {},
   "source": [
    "The web crawler will use a combination of Selenium and Gazpacho to extract the information from the internet. The information will be stored in a Pandas DataFrame."
   ]
  },
  {
   "cell_type": "markdown",
   "metadata": {},
   "source": [
    "#### Import the required modules and methods"
   ]
  },
  {
   "cell_type": "code",
   "execution_count": 3,
   "metadata": {},
   "outputs": [],
   "source": [
    "import re\n",
    "import time\n",
    "import pandas as pd\n",
    "from selenium.webdriver import Firefox\n",
    "from selenium.webdriver.common.by import By\n",
    "from selenium.webdriver.firefox.options import Options\n",
    "from selenium.webdriver.support.ui import WebDriverWait\n",
    "from selenium.webdriver.common.keys import Keys\n",
    "from selenium.webdriver.support import expected_conditions as EC\n",
    "from selenium.common.exceptions import InvalidSelectorException\n",
    "from gazpacho import Soup, get"
   ]
  },
  {
   "cell_type": "markdown",
   "metadata": {},
   "source": [
    "#### Install the Selenium WebDriver for Python from https://www.selenium.dev/downloads/ and a driver for the browser of choice. The driver for Firefox can be downloaded from https://github.com/mozilla/geckodriver/releases"
   ]
  },
  {
   "cell_type": "code",
   "execution_count": 4,
   "metadata": {},
   "outputs": [],
   "source": [
    "def open_browser():\n",
    "    options = Options()\n",
    "    options.headless = True\n",
    "    browser = Firefox(executable_path=r\"C:\\Program Files\\Mozilla Firefox\\geckodriver.exe\", options=options)\n",
    "\n",
    "    return browser\n",
    "\n",
    "\n",
    "def get_url(browser_instance, url, delay):\n",
    "    browser_instance.get(url)\n",
    "    time.sleep(delay)\n",
    "\n",
    "    return browser_instance"
   ]
  },
  {
   "cell_type": "markdown",
   "metadata": {},
   "source": [
    "#### The constituents of the ASX Gold Companies can be extracted from https://www.listcorp.com/asx/sectors/materials/materials/metals-mining/gold"
   ]
  },
  {
   "cell_type": "code",
   "execution_count": 30,
   "metadata": {},
   "outputs": [
    {
     "name": "stdout",
     "output_type": "stream",
     "text": [
      "ASX codes extracted for gold companies\n",
      "NCM\n",
      "NST\n",
      "EVN\n",
      "CHN\n",
      "DEG\n",
      "RRL\n",
      "SLR\n",
      "PRU\n",
      "RMS\n",
      "SBM\n",
      "GOR\n",
      "WGX\n",
      "WAF\n",
      "BGL\n",
      "RSG\n",
      "AGG\n",
      "ADN\n",
      "RED\n",
      "EMR\n",
      "ALK\n",
      "SSR\n",
      "DCN\n",
      "PNR\n",
      "TBR\n",
      "DGO\n",
      "FFX\n",
      "CYL\n",
      "ORR\n",
      "OBM\n",
      "KCN\n",
      "MML\n",
      "CAI\n",
      "OGC\n",
      "IXR\n",
      "AUT\n",
      "BDC\n",
      "TIE\n",
      "GCY\n",
      "BCN\n",
      "TGM\n",
      "WMX\n",
      "GMD\n",
      "BSX\n",
      "TTM\n",
      "WWI\n",
      "RTG\n",
      "BBX\n",
      "TSO\n",
      "AOP\n",
      "RND\n",
      "PDI\n",
      "GWR\n",
      "TUL\n",
      "BRV\n",
      "TAM\n",
      "BC8\n",
      "HMX\n",
      "OKU\n",
      "BRB\n",
      "VAN\n",
      "AAR\n",
      "CAY\n",
      "HRZ\n",
      "ARL\n",
      "AUC\n",
      "DGR\n",
      "NUS\n",
      "MAN\n",
      "SIH\n",
      "FML\n",
      "TRY\n",
      "GML\n",
      "KLA\n",
      "GBZ\n",
      "STN\n",
      "E2M\n",
      "AME\n",
      "PEC\n",
      "DRE\n",
      "YRL\n",
      "HRN\n",
      "KRM\n",
      "ERM\n",
      "TNR\n",
      "VKA\n",
      "AGS\n",
      "DTR\n",
      "GME\n",
      "AQI\n",
      "BNZ\n",
      "CTO\n",
      "NAG\n",
      "KAU\n",
      "ODY\n",
      "GMN\n",
      "SMG\n",
      "AWV\n",
      "BSR\n",
      "ONX\n",
      "GMR\n",
      "ARE\n",
      "TAR\n",
      "A1G\n",
      "CGN\n",
      "VEC\n",
      "PRX\n",
      "MKG\n",
      "ICL\n",
      "MAT\n",
      "SNG\n",
      "LNY\n",
      "RGL\n",
      "NXM\n",
      "KWR\n",
      "MM8\n",
      "HAW\n",
      "OAU\n",
      "SAU\n",
      "DCX\n",
      "MSR\n",
      "NPM\n",
      "REZ\n",
      "ZAG\n",
      "AAU\n",
      "MDI\n",
      "KTA\n",
      "CY5\n",
      "ANL\n",
      "SMI\n",
      "BTR\n",
      "NSM\n",
      "GUL\n",
      "DTM\n",
      "PUA\n",
      "LLO\n",
      "AUN\n",
      "BNR\n",
      "ODM\n",
      "GBR\n",
      "NES\n",
      "KGM\n",
      "AGC\n",
      "MRZ\n",
      "GSM\n",
      "ALY\n",
      "MLS\n",
      "M2R\n",
      "AVW\n",
      "PVW\n",
      "BDG\n",
      "OKR\n",
      "OZM\n",
      "CDT\n",
      "GED\n",
      "STK\n",
      "NTL\n",
      "PGD\n",
      "AAJ\n",
      "MOH\n",
      "TMX\n",
      "KGD\n",
      "AWJ\n",
      "SFM\n",
      "MEG\n",
      "WSR\n",
      "DMG\n",
      "MDX\n",
      "CVS\n",
      "GCR\n",
      "ATM\n",
      "CGM\n",
      "A8G\n",
      "CSM\n",
      "FG1\n"
     ]
    }
   ],
   "source": [
    "# get constituent list of ASX Gold Companies\n",
    "url = \"https://www.listcorp.com/asx/sectors/materials/materials/metals-mining/gold\"\n",
    "browser_instance = open_browser()\n",
    "browser = get_url(browser_instance, url, 3)\n",
    "\n",
    "# scrape web page\n",
    "soup = Soup(browser.page_source)\n",
    "\n",
    "# find hyperlinks on the page with the HTML <a> tag\n",
    "tags = soup.find(\"a\")\n",
    "\n",
    "# only keep tags that include an ASX code\n",
    "tags = [str(tag) for tag in tags if 'ASX:' in str(tag)]\n",
    "\n",
    "# extract all ASX codes from tags\n",
    "asx_codes = [tag.split('ASX:', 1)[1][0:3] for tag in tags]\n",
    "print(\"ASX codes extracted for gold companies\")\n",
    "for asx_code in asx_codes:\n",
    "    print(asx_code)"
   ]
  },
  {
   "cell_type": "markdown",
   "metadata": {},
   "source": [
    "#### Extract web Address and other information for each company from the ASX"
   ]
  },
  {
   "cell_type": "code",
   "execution_count": 33,
   "metadata": {},
   "outputs": [
    {
     "name": "stdout",
     "output_type": "stream",
     "text": [
      "NCM NEWCREST MINING LIMITED http://www.newcrest.com.au/\n",
      "NST NORTHERN STAR RESOURCES LTD http://www.nsrltd.com\n",
      "EVN EVOLUTION MINING LIMITED http://www.evolutionmining.com.au\n",
      "CHN CHALICE MINING LIMITED http://www.chalicemining.com\n",
      "DEG DE GREY MINING LIMITED http://www.degreymining.com.au\n",
      "RRL REGIS RESOURCES LIMITED http://www.regisresources.com/\n",
      "SLR SILVER LAKE RESOURCES LIMITED http://www.silverlakeresources.com.au\n",
      "PRU PERSEUS MINING LIMITED http://www.perseusmining.com/\n",
      "RMS RAMELIUS RESOURCES LIMITED http://www.rameliusresources.com.au\n",
      "SBM ST BARBARA LIMITED http://www.stbarbara.com.au/\n",
      "GOR GOLD ROAD RESOURCES LIMITED http://www.goldroad.com.au/\n",
      "WGX WESTGOLD RESOURCES LIMITED. http://www.westgold.com.au\n",
      "WAF WEST AFRICAN RESOURCES LIMITED http://www.westafricanresources.com\n",
      "BGL BELLEVUE GOLD LIMITED https://www.bellevuegold.com.au\n",
      "RSG RESOLUTE MINING LIMITED http://www.rml.com.au\n",
      "AGG ANGLOGOLD ASHANTI LIMITED http://www.anglogoldashanti.com\n",
      "ADN ANDROMEDA METALS LIMITED http://www.andromet.com.au\n",
      "RED RED 5 LIMITED http://www.red5limited.com\n",
      "EMR EMERALD RESOURCES NL http://www.emeraldresources.com.au\n",
      "ALK ALKANE RESOURCES LIMITED http://www.alkane.com.au\n",
      "SSR SSR MINING INC. http://www.ssrmining.com/\n",
      "DCN DACIAN GOLD LIMITED http://www.daciangold.com.au\n",
      "PNR PANTORO LIMITED http://www.pantoro.com.au\n",
      "TBR TRIBUNE RESOURCES LIMITED http://www.tribune.com.au\n",
      "DGO DGO GOLD LIMITED http://www.dgogold.com.au\n",
      "FFX FIREFINCH LIMITED http://www.firefinchltd.com\n",
      "CYL CATALYST METALS LIMITED http://www.catalystmetals.com.au\n",
      "ORR ORECORP LIMITED http://orecorp.com.au\n",
      "OBM ORA BANDA MINING LTD http://www.orabandamining.com.au\n",
      "KCN KINGSGATE CONSOLIDATED LIMITED. http://www.kingsgate.com.au/\n",
      "MML MEDUSA MINING LIMITED http://www.medusamining.com.au/\n",
      "CAI CALIDUS RESOURCES LIMITED https://www.calidus.com.au/\n",
      "OGC OCEANAGOLD CORPORATION http://www.oceanagold.com\n",
      "IXR IONIC RARE EARTHS LIMITED http://www.ionicre.com.au\n",
      "AUT AUTECO MINERALS LTD http://www.autecominerals.com.au\n",
      "BDC BARDOC GOLD LIMITED http://www.bardocgold.com.au\n",
      "TIE TIETTO MINERALS LIMITED http://www.tietto.com/\n",
      "GCY GASCOYNE RESOURCES LIMITED http://www.gascoyneresources.com.au\n",
      "BCN BEACON MINERALS LIMITED http://www.beaconminerals.com.au\n",
      "TGM THETA GOLD MINES LIMITED http://www.thetagoldmines.com\n",
      "WMX WILUNA MINING CORPORATION LIMITED http://www.blackhamresources.com.au\n",
      "GMD GENESIS MINERALS LIMITED http://www.genesisminerals.com.au\n",
      "BSX BLACKSTONE MINERALS LIMITED http://www.blackstoneminerals.com.au\n",
      "TTM TITAN MINERALS LIMITED http://www.titanminerals.com.au\n",
      "WWI WEST WITS MINING LIMITED http://www.westwitsmining.com\n",
      "RTG RTG MINING INC. http://www.rtgmining.com\n",
      "BBX BBX MINERALS LIMITED http://bbxminerals.com.au\n",
      "TSO TESORO RESOURCES LIMITED https://www.tesororesources.com.au/\n",
      "AOP APOLLO CONSOLIDATED LIMITED http://www.apolloconsolidated.com.au\n",
      "RND RAND MINING LIMITED http://www.randmining.com.au\n",
      "PDI PREDICTIVE DISCOVERY LIMITED http://www.predictivediscovery.com\n",
      "GWR GWR GROUP LIMITED http://www.gwrgroup.com.au/\n",
      "TUL TULLA RESOURCES PLC https://tullaresources.com/\n",
      "BRV BIG RIVER GOLD LTD http://www.bigrivergold.com.au\n",
      "TAM TANAMI GOLD NL http://www.tanami.com.au\n",
      "BC8 BLACK CAT SYNDICATE LIMITED http://www.blackcatsyndicate.com.au\n",
      "HMX HAMMER METALS LIMITED http://www.hammermetals.com.au\n",
      "OKU OKLO RESOURCES LIMITED http://www.okloresources.com\n",
      "BRB BREAKER RESOURCES NL http://www.breakerresources.com.au\n",
      "VAN VANGO MINING LIMITED http://www.vangomining.com\n",
      "AAR ANGLO AUSTRALIAN RESOURCES NL http://www.anglo.com.au\n",
      "CAY CANYON RESOURCES LIMITED http://www.canyonresources.com.au\n",
      "HRZ HORIZON MINERALS LIMITED http://www.horizonminerals.com.au\n",
      "ARL ARDEA RESOURCES LIMITED http://www.ardearesources.com.au\n",
      "AUC AUSGOLD LIMITED http://www.ausgoldlimited.com\n",
      "DGR DGR GLOBAL LIMITED https://www.dgrglobal.com.au/\n",
      "NUS NUSANTARA RESOURCES LIMITED http://www.nusantararesources.com\n",
      "MAN MANDRAKE RESOURCES LIMITED http://www.mandrakeresources.com.au\n",
      "SIH SIHAYO GOLD LIMITED http://www.sihayogold.com\n",
      "FML FOCUS MINERALS LTD http://www.focusminerals.com.au\n",
      "TRY TROY RESOURCES LIMITED http://www.troyres.com.au\n",
      "GML GATEWAY MINING LIMITED http://www.gatewaymining.com.au/\n",
      "KLA KIRKLAND LAKE GOLD LTD http://www.klgold.com\n",
      "GBZ GBM RESOURCES LIMITED http://www.gbmr.com.au\n",
      "STN SATURN METALS LIMITED http://www.saturnmetals.com.au\n",
      "E2M E2 METALS LIMITED http://www.e2metals.com.au\n",
      "AME ALTO METALS LIMITED http://www.altometals.com.au\n",
      "PEC PERPETUAL RESOURCES LIMITED http://www.perpetualresourceslimited.com.au\n",
      "DRE DREADNOUGHT RESOURCES LTD http://www.dreadnoughtresources.com.au\n",
      "YRL YANDAL RESOURCES LIMITED http://www.yandalresources.com.au\n",
      "HRN HORIZON GOLD LIMITED http://www.horizongold.com.au\n",
      "KRM KINGSROSE MINING LIMITED http://www.kingsrosemining.com.au\n",
      "ERM EMMERSON RESOURCES LIMITED http://www.emmersonresources.com.au\n",
      "TNR TORIAN RESOURCES LIMITED http://www.torianresources.com.au\n",
      "VKA VIKING MINES LIMITED http://www.vikingmines.com\n",
      "AGS ALLIANCE RESOURCES LIMITED http://www.allianceresources.com.au\n",
      "DTR DATELINE RESOURCES LIMITED http://www.datelineresources.com.au\n",
      "GME GME RESOURCES LIMITED http://www.gmeresources.com.au/\n",
      "AQI ALICANTO MINERALS LIMITED http://www.alicantominerals.com.au\n",
      "BNZ BENZ MINING CORP. https://benzmining.com/\n",
      "CTO CITIGOLD CORPORATION LIMITED http://www.citigold.com\n",
      "NAG NAGAMBIE RESOURCES LIMITED None\n",
      "KAU KAISER REEF LIMITED http://www.kaiserreef.com.au\n",
      "ODY ODYSSEY GOLD LTD http://www.odysseyenergy.com.au/\n",
      "GMN GOLD MOUNTAIN LIMITED http://www.goldmountainltd.com.au\n",
      "SMG SOON MINING LIMITED http://www.soonmining.com\n",
      "AWV ANOVA METALS LIMITED http://www.anovametals.com.au\n",
      "BSR BASSARI RESOURCES LIMITED http://www.BassariResources.com\n",
      "ONX ORMINEX LTD http://orminex.com.au/\n",
      "GMR GOLDEN RIM RESOURCES LTD http://www.goldenrim.com.au\n",
      "ARE ARGONAUT RESOURCES NL http://www.argonautresources.com\n",
      "TAR TARUGA MINERALS LIMITED https://tarugaminerals.com.au/\n",
      "A1G AFRICAN GOLD LTD. http://african-gold.com\n",
      "CGN CRATER GOLD MINING LIMITED http://www.cratergold.com.au\n",
      "VEC VECTOR RESOURCES LIMITED http://www.vectorres.com.au\n",
      "PRX PRODIGY GOLD NL http://www.prodigygold.com.au\n",
      "MKG MAKO GOLD LIMITED http://www.makogold.com.au\n",
      "ICL ICENI GOLD LIMITED https://www.icenigold.com.au/site/content/\n",
      "MAT MATSA RESOURCES LIMITED http://www.matsa.com.au\n",
      "SNG SIREN GOLD LIMITED http://www.sirengold.com.au\n",
      "LNY LANEWAY RESOURCES LTD http://www.lanewayresources.com.au\n",
      "RGL RIVERSGOLD LIMITED http://www.riversgold.com.au\n",
      "NXM NEXUS MINERALS LIMITED http://www.nexus-minerals.com\n",
      "KWR KINGWEST RESOURCES LIMITED http://www.kingwestresources.com.au\n",
      "MM8 MEDALLION METALS LIMITED. http://www.medallionmetals.com.au\n",
      "HAW HAWTHORN RESOURCES LIMITED http://www.hawthornresources.com\n",
      "OAU ORA GOLD LIMITED http://www.thundelarra.com\n",
      "SAU SOUTHERN GOLD LIMITED http://www.southerngold.com.au\n",
      "DCX DISCOVEX RESOURCES LIMITED http://www.discovexresources.com.au\n",
      "MSR MANAS RESOURCES LIMITED http://www.manasresources.com.au\n",
      "NPM NEWPEAK METALS LIMITED https://newpeak.com.au/\n",
      "REZ RESOURCES & ENERGY GROUP LIMITED http://www.rezgroup.com.au\n",
      "ZAG ZULEIKA GOLD LIMITED http://www.dampiergold.com\n",
      "AAU ANTILLES GOLD LIMITED https://antillesgold.net/\n",
      "MDI MIDDLE ISLAND RESOURCES LIMITED http://www.middleisland.com.au\n",
      "KTA KRAKATOA RESOURCES LIMITED https://ktaresources.com/\n",
      "CY5 CYGNUS GOLD LIMITED http://www.cygnusgold.com\n",
      "ANL AMANI GOLD LIMITED http://www.amanigold.com\n",
      "SMI SANTANA MINERALS LIMITED http://www.santanaminerals.com\n",
      "BTR BRIGHTSTAR RESOURCES LIMITED http://www.brightstarresources.com.au/\n",
      "NSM NORTH STAWELL MINERALS LTD http://www.northstawellminerals.com\n",
      "GUL GULLEWA LIMITED http://www.gullewa.com/\n",
      "DTM DART MINING NL http://www.dartmining.com.au\n",
      "PUA PEAK MINERALS LIMITED https://www.peakminerals.com.au/\n",
      "LLO LION ONE METALS LIMITED http://www.liononemetals.com\n",
      "AUN AURUMIN LIMITED http://aurumin.com.au/\n",
      "BNR BULLETIN RESOURCES LIMITED http://www.bulletinresources.com\n",
      "ODM ODIN METALS LIMITED http://odinmetals.com.au/\n",
      "GBR GREAT BOULDER RESOURCES LIMITED http://www.greatboulder.com.au\n",
      "NES NELSON RESOURCES LIMITED. http://www.nelsonresources.com.au\n",
      "KGM KALNORTH GOLD MINES LIMITED http://www.kalnorthgoldmines.com\n",
      "AGC AUSTRALIAN GOLD AND COPPER LTD https://www.austgoldcopper.com.au/\n",
      "MRZ MONT ROYAL RESOURCES LIMITED http://www.montroyalres.com\n"
     ]
    },
    {
     "name": "stdout",
     "output_type": "stream",
     "text": [
      "GSM GOLDEN STATE MINING LIMITED http://goldenstatemining.com.au/\n",
      "ALY ALCHEMY RESOURCES LIMITED http://www.alchemyresources.com.au\n",
      "MLS METALS AUSTRALIA LTD http://www.metalsaustralia.com.au\n",
      "M2R MIRAMAR RESOURCES LIMITED https://www.miramarresources.com.au\n",
      "AVW AVIRA RESOURCES LTD http://www.mgt.net.au\n",
      "PVW PVW RESOURCES LIMITED None\n",
      "BDG BLACK DRAGON GOLD CORP. http://www.blackdragongold.com\n",
      "OKR OKAPI RESOURCES LIMITED http://www.okapiresources.com\n",
      "OZM OZAURUM RESOURCES LIMITED https://ozaurumresources.com/\n",
      "CDT CASTLE MINERALS LIMITED http://www.castleminerals.com\n",
      "GED GOLDEN DEEPS LIMITED. http://www.goldendeeps.com\n",
      "STK STRICKLAND METALS LIMITED http://www.alloyres.com\n",
      "NTL NEW TALISMAN GOLD MINES LIMITED http://www.newtalismangoldmines.co.nz\n",
      "PGD PEREGRINE GOLD LTD https://peregrinegold.com.au/\n",
      "AAJ ARUMA RESOURCES LIMITED http://www.arumaresources.com\n",
      "MOH MOHO RESOURCES LIMITED http://www.mohoresources.com.au\n",
      "TMX TERRAIN MINERALS LIMITED http://www.terrainminerals.com.au\n",
      "KGD KULA GOLD LIMITED http://www.kulagold.com.au\n",
      "AWJ AURIC MINING LIMITED https://www.auricmining.com.au/\n",
      "SFM SANTA FE MINERALS LTD http://www.santafeminerals.com.au\n",
      "MEG MEGADO GOLD LIMITED http://www.megadogold.com\n",
      "WSR WESTAR RESOURCES LIMITED https://westar.net.au/\n",
      "DMG DRAGON MOUNTAIN GOLD LIMITED None\n",
      "MDX MINDAX LIMITED http://www.mindax.com.au\n",
      "CVS CERVANTES CORPORATION LIMITED http://www.cervantescorp.com.au\n",
      "GCR GOLDEN CROSS RESOURCES LTD http://www.goldencross.com.au\n",
      "ATM ANEKA TAMBANG (PERSERO) TBK (PT) http://www.antam.com\n",
      "CGM COUGAR METALS NL http://www.cgm.com.au\n",
      "A8G AUSTRALASIAN GOLD LIMITED http://australasiangold.com/\n",
      "CSM COSMO GOLD LIMITED https://www.cosmogold.com.au\n",
      "FG1 FLYNN GOLD LIMITED http://www.flynngold.com.au\n"
     ]
    }
   ],
   "source": [
    "# get market cap data from the ASX\n",
    "full_names = []\n",
    "market_caps = []\n",
    "web_addresses = []\n",
    "for code in asx_codes:\n",
    "    url = 'https://www.asx.com.au/asx/1/company/' + code + '?fields=primary_share'\n",
    "    html = get(url)\n",
    "    full_name = html.get('name_full')\n",
    "    web_address = html.get('web_address')\n",
    "    market_cap_dict = html.get('primary_share')\n",
    "    market_cap = market_cap_dict.get('market_cap')\n",
    "    full_names.append(full_name)\n",
    "    market_caps.append(market_cap)\n",
    "    web_addresses.append(web_address)\n",
    "    print(code, full_name, web_address)  # sorted by market capitalisation"
   ]
  },
  {
   "cell_type": "markdown",
   "metadata": {},
   "source": [
    "#### Store this information in a Pandas DataFrame"
   ]
  },
  {
   "cell_type": "code",
   "execution_count": 34,
   "metadata": {},
   "outputs": [],
   "source": [
    "data = {'ASX code':  asx_codes, 'Full name': full_names, 'Market cap': market_caps, 'Web address': web_addresses}\n",
    "gold_companies = pd.DataFrame(data, columns=['ASX code', 'Full name', 'Market cap', 'Web address'])\n",
    "# gold_companies = gold_companies[gold_companies['Market cap'] < 1000000000].reset_index(drop=True)  # not used - more data, more better!"
   ]
  },
  {
   "cell_type": "markdown",
   "metadata": {},
   "source": [
    "#### Not all web addresses can be retrieved from the ASX. Google can supply the rest. A headless browser (not visible) is used"
   ]
  },
  {
   "cell_type": "code",
   "execution_count": 37,
   "metadata": {},
   "outputs": [],
   "source": [
    "missed_web_addresses = gold_companies[gold_companies['Web address'].isnull()]['Full name']\n",
    "driver = open_browser()\n",
    "web_addresses = []\n",
    "for company in missed_web_addresses:\n",
    "    url = \"https://www.google.com\"\n",
    "    browser = get_url(driver, url, 3)\n",
    "\n",
    "    # enter the company name into a google search bar and press enter\n",
    "    browser.find_element(By.NAME, \"q\").send_keys(company + Keys.ENTER)\n",
    "\n",
    "    # wait until the page is loaded before attempting to find an element\n",
    "    wait = WebDriverWait(browser, 3)\n",
    "    wait.until(EC.presence_of_element_located((By.CLASS_NAME, 'g')))\n",
    "\n",
    "    # get the search results and append to a list\n",
    "    searchResults = browser.find_elements_by_class_name('g')\n",
    "    top_result = searchResults[0].find_element_by_css_selector('a').get_attribute('href')\n",
    "    web_addresses.append(top_result)\n",
    "\n",
    "browser.quit()"
   ]
  },
  {
   "cell_type": "markdown",
   "metadata": {},
   "source": [
    "#### Add the web addresses obtained from Google to the existing DataFrame and save to CSV for review "
   ]
  },
  {
   "cell_type": "code",
   "execution_count": 40,
   "metadata": {},
   "outputs": [
    {
     "name": "stderr",
     "output_type": "stream",
     "text": [
      "C:\\Users\\bgarner\\AppData\\Local\\Continuum\\anaconda3\\lib\\site-packages\\ipykernel_launcher.py:2: SettingWithCopyWarning: \n",
      "A value is trying to be set on a copy of a slice from a DataFrame.\n",
      "Try using .loc[row_indexer,col_indexer] = value instead\n",
      "\n",
      "See the caveats in the documentation: http://pandas.pydata.org/pandas-docs/stable/indexing.html#indexing-view-versus-copy\n",
      "  \n"
     ]
    }
   ],
   "source": [
    "missed = gold_companies.loc[gold_companies['Full name'].isin(missed_web_addresses)]\n",
    "missed['Web address'] = web_addresses\n",
    "gold_companies.loc[gold_companies['Full name'].isin(missed['Full name']), 'Web address'] = missed['Web address']\n",
    "gold_companies.to_csv('gold_companies.csv', index=False)"
   ]
  },
  {
   "cell_type": "markdown",
   "metadata": {},
   "source": [
    "#### Some functions are defined for the purposes of web scraping. The first function will attempt to get a response from the website"
   ]
  },
  {
   "cell_type": "code",
   "execution_count": 5,
   "metadata": {},
   "outputs": [],
   "source": [
    "def get_web_address(web_address):\n",
    "    try:\n",
    "        # print(web_address)\n",
    "        response = get(web_address)\n",
    "    except:\n",
    "        try:\n",
    "            web_address = web_address.split('www.', 1)[0] + web_address.split('www.', 1)[1]\n",
    "        except:\n",
    "            return None\n",
    "\n",
    "        try:\n",
    "            response = get(web_address)\n",
    "\n",
    "        except HTTPError as error:\n",
    "            response = requests.get(web_address)\n",
    "            content = str(response.content)\n",
    "            links = re.findall(r'(https?://\\S+)', content)\n",
    "            domain = web_address.split('//', 1)[1]\n",
    "            links = [link for link in links if '.com' in link and 'google' not in link and domain not in link]\n",
    "            links = [re.findall(r\"\\w+://\\w+\\.\\w+\\.\\w+/?[\\w\\.\\?=#]*\", link) for link in links]\n",
    "            new_link = [link for sublist in links for link in sublist]\n",
    "\n",
    "            try:\n",
    "                response = get(new_link[0])\n",
    "                return response\n",
    "\n",
    "            except:\n",
    "                return None\n",
    "\n",
    "    return response"
   ]
  },
  {
   "cell_type": "markdown",
   "metadata": {},
   "source": [
    "#### The following function uses Gazpacho to extract hyperlinks and associated text"
   ]
  },
  {
   "cell_type": "code",
   "execution_count": 6,
   "metadata": {},
   "outputs": [],
   "source": [
    "def find_tags(r):\n",
    "    soup = Soup(r)\n",
    "    soup = soup.find('a')\n",
    "\n",
    "    # find hyperlinks and associated text\n",
    "    try:\n",
    "        tags = [tag.attrs['href'] for tag in soup if 'href' in tag.attrs]\n",
    "        texts = [tag.text for tag in soup if 'href' in tag.attrs]\n",
    "\n",
    "    except:\n",
    "        tags_list = []\n",
    "        texts_list = []\n",
    "        for tag in soup:\n",
    "            try:\n",
    "                links = [tag for tag in tag.attrs.values() if tag.startswith('http')]\n",
    "                if len(links) > 0:\n",
    "                    texts = [tag for tag in tag.attrs.values() if not tag.startswith('http')]\n",
    "            except:\n",
    "                pass\n",
    "            tags_list.append(links)\n",
    "            texts_list.append(texts)\n",
    "\n",
    "        # create a Pandas Dataframe. Drop rows with no tags and drop duplicates\n",
    "        data = {'tag':  tags_list, 'text': texts_list}\n",
    "        link_data = pd.DataFrame(data, columns=['tag', 'text'])\n",
    "        link_data['tag'] = link_data['tag'].str[0]  # remove square brackets\n",
    "        link_data['text'] = link_data['text'].str[2]  # the associated tag text is stored in position [2]\n",
    "        link_data = link_data[link_data['tag'].notna()]\n",
    "        link_data = link_data.drop_duplicates()\n",
    "        link_data = link_data.drop_duplicates(subset=['tag'], keep='last')\n",
    "        link_data['text'] = link_data['text'].astype(str)  # convert 'nan' from float to string\n",
    "        tags = link_data['tag'].tolist()\n",
    "        texts = link_data['text'].tolist()\n",
    "\n",
    "    return tags, texts"
   ]
  },
  {
   "cell_type": "markdown",
   "metadata": {},
   "source": [
    "#### This function attempts to find the web page for ASX announcments on each company's website"
   ]
  },
  {
   "cell_type": "code",
   "execution_count": 7,
   "metadata": {},
   "outputs": [],
   "source": [
    "def clean_tags(tags, web_address):\n",
    "    # get hyperlinks that include 'ASX' that exclude exchange links. Get links for 'investor\n",
    "    tags_asx = [tag for tag in tags if 'ASX'.lower() in tag.lower() and 'asx.com.au'.lower() not in tag]\n",
    "    tags_investor = [tag for tag in tags if 'investor'.lower() in tag and 'analyst'.lower() not in tag]\n",
    "\n",
    "    # get hyperlinks that start with 'https' and 'http'\n",
    "    tags_asx_https = [tag for tag in tags_asx if tag.startswith('https')]\n",
    "    tags_asx_http = [tag for tag in tags_asx if tag.startswith('http') and tag not in tags_asx_https]\n",
    "    tags_investor_https = [tag for tag in tags_investor if tag.startswith('https')]\n",
    "    tags_investor_http = [tag for tag in tags_investor if tag.startswith('http') and tag not in tags_investor_https]\n",
    "\n",
    "    # prefer 'https' links over the same 'http' link\n",
    "    if len(tags_asx_https) > 0:\n",
    "        tags_asx = tags_asx_https\n",
    "    elif len(tags_asx_http) > 0:\n",
    "        tags_asx = tags_asx_http\n",
    "\n",
    "    if len(tags_investor_https) > 0:\n",
    "        tags_investor = tags_investor_https\n",
    "    elif len(tags_investor_http) > 0:\n",
    "        tags_investor = tags_investor_http\n",
    "\n",
    "    # links that include 'ASX' are preferred over 'investor'\n",
    "    if len(tags_asx) > 0:\n",
    "        tags = tags_asx\n",
    "    elif len(tags_investor) > 0:\n",
    "        tags = tags_investor\n",
    "\n",
    "    # remove some links\n",
    "    tags = [tag for tag in tags if 'broker-research' not in tag and 'page' not in tag and 'research-reports' not in tag\n",
    "            and 'translation' not in tag and 'twitter' not in tag and 'presentation' not in tag\n",
    "            and 'youtube' not in tag and 'annual-report' not in tag and 'asx.com.au' not in tag\n",
    "            and 'linkedin.com' not in tag and 'share-price' not in tag and 'facebook.com' not in tag]\n",
    "\n",
    "    # add anchor to the link if missing and remove duplicates\n",
    "    tags = [web_address + tag if tag.startswith('/') else tag for tag in tags]\n",
    "    tags = list(set(tags))\n",
    "    return tags"
   ]
  },
  {
   "cell_type": "markdown",
   "metadata": {},
   "source": [
    "#### Iterate through every gold company in the ASX Gold Companies and attempt to find the ASX announcements page. Export the dataset to CSV for further review"
   ]
  },
  {
   "cell_type": "code",
   "execution_count": 6,
   "metadata": {},
   "outputs": [
    {
     "name": "stdout",
     "output_type": "stream",
     "text": [
      "https://icrm.indigotools.com/IR/IAC/?Ticker=NCM&Exchange=ASX\n",
      "https://www.nsrltd.com/contact/subscribe-to-investor-announcements/\n",
      "https://evolutionmining.com.au/wp-content/uploads/2020/06/ASX-Announcemnt-4-June-2020.pdf\n",
      "http://www.chalicemining.com/investors\n",
      "https://degreymining.com.au/wp-content/uploads/2020/08/20200821-DEG-ASX-HEMI-Brolga-drilling-update-lodgement-final-clean.pdf\n",
      "https://regisresources.com.au/investor-centre/asx-announcements/\n",
      "https://www.silverlakeresources.com.au/investors/asx-announcements\n",
      "http://www.perseusmining.com//asx-announcement/\n",
      "https://www.rameliusresources.com.au/2021-asx/\n",
      "https://stbarbara.com.au/wp-content/uploads/2021/03/2021.03.24-asx-appendix-3y-gleeson.pdf#new_tab\n",
      "https://goldroad.com.au/wp-content/uploads/2021/03/Gold-Road-Sustainability-Report-2020_asx.pdf\n",
      "http://www.westgold.com.au/site/investor-centre/asx-announcements\n",
      "https://www.westafricanresources.com/investor-centre/\n",
      "https://www.bellevuegold.com.au/asx-reports\n",
      "https://www.rml.com.au/investors/asx-announcements/\n",
      "https://www.anglogoldashanti.com/investors/capital-markets-day/\n",
      "https://www.andromet.com.au/news/asx-announcements\n",
      "http://www.red5limited.com/site/investor-centre/ASX-Announcements\n",
      "https://www.emeraldresources.com.au/sites/default/files/asx-announcements/61027828.pdf\n",
      "https://www.alkane.com.au/media-research/asx-announcements/\n",
      "http://ir.ssrmining.com/investors/events/event-details/2021/2021-Annual-and-Special-Meeting-of-Shareholders/default.aspx\n",
      "http://www.daciangold.com.au/site/investor-centre/ASX-Announcements\n",
      "https://www.pantoro.com.au/investors/asx-announcements/\n",
      "http://tribune.com.au/investors-informaton/asx-announcements/\n",
      "https://www.dgogold.com.au/asx/\n",
      "https://firefinchltd.com/asx-announcements/\n",
      "https://catalystmetals.com.au/investor-relations/\n",
      "http://orecorp.com.au/investor-centre/asx-announcements\n",
      "https://www.orabandamining.com.au/investor-centre/\n",
      "https://www.kingsgate.com.au/nueva-esperanza-overview/\n",
      "https://www.medusamining.com.au/investors/asx-announcements\n",
      "https://www.calidus.com.au/investors/asx-announcements/\n",
      "https://oceanagold.com/investor-centre/tsx-and-asx-announcements/\n",
      "https://ionicre.com.au/news/asx-announcements/\n",
      "https://www.autecominerals.com.au/investors/asx-announcements/\n",
      "https://www.bardocgold.com/sites/default/files/asx-announcements/61026431.pdf\n",
      "https://www.tietto.com/investor-centre/share-capital/\n",
      "https://www.gascoyneresources.com.au/investor/asx-announcements/\n",
      "http://www.beaconminerals.com.au is taking too long to load\n",
      "https://thetagoldmines.com/investor-centre/asx-announcements/\n",
      "https://wilunamining.com.au/investors/capital-structure/\n",
      "http://www.genesisminerals.com.au/directors\n",
      "https://www.blackstoneminerals.com.au/investors\n",
      "https://www.titanminerals.com.au/investors/company-reports/\n",
      "https://westwitsmining.com/asx-announcements/\n",
      "https://www.rtgmining.com/investors/\n",
      "https://www.bbxminerals.com/investor-relations/asx-releases/\n",
      "https://www.tesororesources.com.au/announcement-category/asx-announcements/\n",
      "http://www.apolloconsolidated.com.au/investors/\n",
      "http://randmining.com.au/investors-information/asx-announcements/\n",
      "https://www.predictivediscovery.com/investor-dashboard/\n",
      "https://gwrgroup.com.au/investor-centre/asx-announcements/\n",
      "https://tullaresources.com/asx-announcements/\n",
      "https://www.bigrivergold.com.au/asx-announcements/\n",
      "http://www.tanami.com.au/investors/asx-announcements/2017.html\n",
      "https://www.blackcatsyndicate.com.au/investors/asx-announcements/\n",
      "https://www.hammermetals.com.au/investors/asx-announcements/\n",
      "https://www.okloresources.com/investors/asx-announcements/\n",
      "https://www.breakerresources.com.au/wp-content/uploads/announcements/210309-ASX-Lake-Roe-RCDD_Final.pdf\n",
      "https://www.vangomining.com/asx-announcements-2016\n",
      "https://anglo.com.au/asx-announcements/\n",
      "https://www.canyonresources.com.au/announcement-category/asx-announcements/\n",
      "https://horizonminerals.com.au/wp-content/uploads/2019/10/Notice-of-AGM-Proxy-Final-for-ASX-2019.pdf\n",
      "http://www.ardearesources.com.au/investors\n",
      "http://www.ausgoldlimited.com/site/news-report/ASX-Announcements\n",
      "https://www.dgrglobal.com.au/asx-announcements\n",
      "http://www.nusantararesources.com is taking too long to load\n",
      "https://www.mandrakeresources.com.au/investor-centre/asx-announcements/\n",
      "http://www.sihayogold.com/site/investor-centre/asx-announcements\n",
      "http://www.focusminerals.com.au/investors/corporate-directory/\n",
      "http://www.troyres.com.au/investor-centre/reports/environmental.html\n",
      "https://www.gatewaymining.com.au/asx-announcements\n",
      "https://www.kl.gold/investors/default.aspx\n",
      "https://asx.api.markitdigital.com/asx-research/1.0/file/2924-02330928-6A1015654?access_token=83ff96335c2d45a094df02a206a39ff4\n",
      "https://saturnmetals.com.au/investor-centre/asx/\n",
      "https://e2metals.com.au/investors/\n",
      "https://altometals.com.au/asx-announcements/\n",
      "https://www.perpetualresourceslimited.com.au/copy-of-asx-announcements\n",
      "https://www.dreadnoughtresources.com.au/investors/asx-announcements/\n",
      "https://www.yandalresources.com.au/wp-content/uploads/2021/02/2021-02-17-YRL-ASX-Announcement-Board-Appointment_Resignation_Final.pdf\n",
      "http://www.horizongold.com.au/site-disclaimer/\n",
      "http://www.kingsrosemining.com.au/asx-announcements/\n",
      "http://www.emmersonresources.com.au/asx-releases\n",
      "http://www.torianresources.com.au/sites/default/files/asx-announcements/61029649.pdf\n",
      "https://vikingmines.com/recent-asx-announcements/\n",
      "http://www.allianceresources.com.au/site/investor-centre/asx-announcements1/ASX-Announcements\n",
      "https://www.datelineresources.com.au/asx-announcements/\n",
      "https://gmeresources.com.au/investors/asx-announcements/\n",
      "https://www.alicantominerals.com.au/investors/asx-announcements/\n",
      "https://benzmining.com/investors/reports-and-filings/\n",
      "https://www.citigold.com/investor-introduction/\n",
      "https://www.nagambieresources.com.au//investor-information/all-asx-releases\n",
      "https://www.kaiserreef.com.au/asx-announcements\n",
      "https://odysseygold.com.au/asx-announcements/\n",
      "https://goldmountainltd.com.au/corporate/asx-announcements/\n",
      "index_tw.htm\n",
      "https://cdn-api.markitdigital.com/apiman-gateway/ASX/asx-research/1.0/file/2924-02353354-6A1024529?access_token=83ff96335c2d45a094df02a206a39ff4\n",
      "http://www.BassariResources.com is taking too long to load\n",
      "https://orminex.com.au/investor-centre/asx-announcements/\n",
      "http://www.goldenrim.com.au/site/News-and-Reports/ASX-Announcements\n",
      "http://www.argonautresources.com is taking too long to load\n",
      "https://tarugaminerals.com.au/wp-content/uploads/2020/06/20205013-Strikeline-Flinders_ASX.pdf\n",
      "https://www.african-gold.com/asx-announcements\n",
      "http://www.cratergold.com.au/irm/content/asx-announcements.aspx?RID=8\n",
      "http://www.vectorres.com.au/asxvec\n",
      "https://www.prodigygold.com.au/investors/asx-announcements/\n",
      "http://www.makogold.com.au/asx-releases-and-newsletters.html\n",
      "https://www.icenigold.com.au/site/content//site/investor-centre/asx-announcements\n",
      "http://www.matsa.com.au/matsa/investor-centre/asx-announcements/?pType=asx_announcements\n",
      "http://www.sirengold.com.au/site/investor-centre/ASX-Announcements\n",
      "http://www.lanewayresources.com.au/irm/content/asx-quarterly-reports.aspx?RID=378\n",
      "https://www.riversgold.com.au/sites/default/files/asx-announcements/2157735.pdf\n",
      "https://www.proactiveinvestors.com.au/ASX:NXM/nexus-minerals-0780.html\n",
      "http://www.kingwestresources.com.au/asx-announcements-2021.html\n",
      "https://medallionmetals.com.au/asx-announcements/\n",
      "http://www.hawthornresources.com/investor-centre.aspx\n",
      "http://www.thundelarra.com/asx-announcements\n",
      "http://www.southerngold.com.au is taking too long to load\n",
      "http://discovexresources.com.au/index.php/asx-announcements/\n",
      "https://manasresources.com.au/asx-announcements/\n",
      "https://newpeak.com.au/ is taking too long to load\n",
      "http://www.rezgroup.com.au is taking too long to load\n",
      "http://www.dampiergold.com is taking too long to load\n",
      "https://ammo.digital\n",
      "http://www.middleisland.com.au/wp-content/uploads/2021/03/20210309_Middle-Island-to-demerge-Barkly_ASX.pdf\n",
      "https://www.ktaresources.com/asx-releases/\n",
      "https://cygnusgold.squarespace.com/s/GOR_ASX-Announcement-200407.pdf\n",
      "https://www.amanigold.com/announcement-category/asx-announcements/\n",
      "https://santanaminerals.com/investors/announcements/\n",
      "http://www.brightstarresources.com.au/index.php/asx-announcements/\n",
      "https://www.tradingview.com/symbols/ASX-NSM/\n",
      "http://www.gullewa.com//privacy_policy.cms;jsessionid=DC2CD536E49444D92E7CEFC8A9024A26\n"
     ]
    },
    {
     "name": "stdout",
     "output_type": "stream",
     "text": [
      "https://dartmining.com.au/asx_announcements/lidar-data-acquisition-over-strategic-projects/\n",
      "https://www.peakminerals.com.au//view/investors/asx-announcements\n",
      "https://liononemetals.com/investors/\n",
      "https://aurumin.com.au/investors/asx-announcements/\n",
      "https://www.bulletinresources.com/investor-media-centre/asx-annoucements/\n",
      "https://odinmetals.com.au/investor-resources/asx-announcements/\n",
      "http://www.greatboulder.com.au/sites/default/files/asx-announcements/61029496.pdf\n",
      "https://nelsonresources.com.au/asxannouncements/\n",
      "http://www.kalnorthgoldmines.com/irm/content/asx-announcements.aspx?RID=8\n",
      "https://www.austgoldcopper.com.au/asx-announcements/\n",
      "http://www.montroyalres.com is taking too long to load\n",
      "https://goldenstatemining.com.au/investor-centre/\n",
      "http://www.alchemyresources.com.au is taking too long to load\n",
      "investors.php\n",
      "https://www.miramarresources.com.au/investors/asx-announcements/\n",
      "https://www.onlydomains.com/hosting/?utm_medium=free_parking&utm_source=mgt.net.au\n",
      "https://pvwresources.com.au//investors/#asxannouncements\n",
      "http://www.blackdragongold.com/investors/asx-announcements/\n",
      "https://okapiresources.com/wp-content/uploads/2018/04/20180124-okr-asx-katanga-copper-cobalt-project-option-final-lodgement.pdf\n",
      "https://ozaurumresources.com/investor-centre/#announcements\n",
      "\n",
      "https://www.goldendeeps.com/announcement-category/asx-announcements/\n",
      "https://www.stricklandmetals.com.au/investors/asx-announcements\n",
      "http://www.newtalismangoldmines.co.nz/asx-corporate-governance-principles-and-recommendations/nomination-committee-charter/\n",
      "https://peregrinegold.com.au/investors/asx-announcements/\n",
      "https://www.arumaresources.com/investors/\n",
      "https://www.mohoresources.com.au/asxreleases/q22021\n",
      "http://www.terrainminerals.com.au/investor-relations/asx-releases-reports\n",
      "https://www.kulagold.com.au/investor-centre/\n",
      "https://www.auricmining.com.au/investor-centre#announcements\n",
      "https://www.santafeminerals.com.au/investors/asx-announcements\n",
      "https://megadogold.com/investor-centre/asx-announcements/\n",
      "https://westar.net.au/investor-centre/\n",
      "http://www.dragonmountain.com.au/asx-announcements\n",
      "http://www.mindax.com.au/upload/documents/InvestorRelations/ASX/20210127_17Appendix2A11January2021.pdf\n",
      "https://www.cervantescorp.com.au/wp-content/uploads/2021/04/210416-Prospectus-16-04-21-ASX-Version2658854.2.pdf\n",
      "http://www.brr.com.au/asx/GCR/golden-cross-resources-ltd/\n",
      "http://www.antam.com is taking too long to load\n",
      "http://www.cgm.com.au is taking too long to load\n",
      "https://australasianipo.thereachagency.com\n",
      "https://cosmogold.com.au/investor-centre/asx-announcements/\n",
      "https://flynngold.com.au/policies-reports/\n"
     ]
    }
   ],
   "source": [
    "# import data into Pandas DataFrame\n",
    "gold_companies = pd.read_csv(\"gold_companies.csv\")\n",
    "announcement_links = []\n",
    "for web_address in gold_companies['Web address']:\n",
    "    try:\n",
    "        r = get_web_address(web_address)\n",
    "        if r is not None:\n",
    "            all_tags, all_texts = find_tags(r)\n",
    "            tags = clean_tags(all_tags, web_address)\n",
    "            announcement_links.append(tags[0])\n",
    "            print(tags[0])\n",
    "        else:\n",
    "            announcement_links.append(\"NAN\")\n",
    "\n",
    "    except:\n",
    "        print(web_address, \"is taking too long to load\")\n",
    "        announcement_links.append(\"NAN\")\n",
    "\n",
    "# add announcement links to the gold_companies DataFrame\n",
    "gold_companies['Announcements'] = pd.Series(announcement_links)\n",
    "gold_companies.to_csv('gold_companies_links.csv', index=False)"
   ]
  },
  {
   "cell_type": "markdown",
   "metadata": {},
   "source": [
    "#### The correct link for the ASX announcements page for some companies will need to be collected manually, as the script is not perfect. Once cleaned, it can be imported as gold_companies_to_scrape.csv"
   ]
  },
  {
   "cell_type": "markdown",
   "metadata": {},
   "source": [
    "#### An attempt will be made to navigate through the website of every ASX Gold Company to find all ASX announcements from 2010 - 2021 that include the words 'drill', 'exploration' or 'discovery' in the announcement title. Search for mutiple pages for every calendar year. This will not work with websites that use javascript heavily. This section will be improved with time."
   ]
  },
  {
   "cell_type": "markdown",
   "metadata": {},
   "source": [
    "#### This function will identify any hyperlinks with the text of interest"
   ]
  },
  {
   "cell_type": "code",
   "execution_count": 8,
   "metadata": {},
   "outputs": [],
   "source": [
    "def get_drill_tags(tags, texts, all_drill_tags, landing_page):\n",
    "    for tag, text in zip(tags, texts):\n",
    "        text = text.lower()\n",
    "        if 'drill' in text or 'exploration' in text or 'result' in text or 'discovery' in text or\\\n",
    "                'sulphide' in text or 'intersect' in text and\\\n",
    "                'meeting' not in text and 'financial' not in text and 'half' not in text and 'share' not in text and\\\n",
    "                'agm' not in text and 'egm' not in text and 'entitlement' not in text\\\n",
    "                and 'project' not in text and 'placement' not in text and text not in all_drill_tags:\n",
    "\n",
    "            tag = make_link(tag, landing_page)\n",
    "            all_drill_tags.append(tag)\n",
    "    return all_drill_tags"
   ]
  },
  {
   "cell_type": "markdown",
   "metadata": {},
   "source": [
    "#### This function will make a proper hyperlink out of any partial link found"
   ]
  },
  {
   "cell_type": "code",
   "execution_count": 9,
   "metadata": {},
   "outputs": [],
   "source": [
    "def make_link(page, web_page):\n",
    "    if page.startswith('/site') or page.startswith('/announcement') or page.startswith('/media') or\\\n",
    "            page.startswith('/upload') or page.startswith('/download') or page.startswith('/asx-release') or\\\n",
    "            page.startswith('/investor-report') or page.startswith('/wp-content') or page.startswith('/s') or\\\n",
    "            page.startswith('/investor-centre') or page.startswith('/assets') or page.startswith('/news'):\n",
    "        protocol_domain = web_page.split('/site', 1)[0]\n",
    "        page = protocol_domain + page\n",
    "    if page.startswith('download'):\n",
    "        protocol_domain = web_page.split('/site', 1)[0]\n",
    "        page = protocol_domain + '/' + page\n",
    "    return page"
   ]
  },
  {
   "cell_type": "markdown",
   "metadata": {},
   "source": [
    "#### This function attempts to identify multiple pages of ASX announcements for that calendar year"
   ]
  },
  {
   "cell_type": "code",
   "execution_count": 10,
   "metadata": {},
   "outputs": [],
   "source": [
    "def find_more_pages(tags):\n",
    "    more_pages = [tag for tag in tags if re.search(\"page[0-9]\", tag.lower()) or re.search(\"/P[0-9]\", tag) or\n",
    "                  re.search(\"page=[0-9]\", tag.lower())]\n",
    "    if len(more_pages) > 1:\n",
    "        more_pages = list(set(more_pages))\n",
    "    return more_pages"
   ]
  },
  {
   "cell_type": "markdown",
   "metadata": {},
   "source": [
    "#### This function looks for new page links every time a new page is loaded. Not all links may be available on the first page."
   ]
  },
  {
   "cell_type": "code",
   "execution_count": 11,
   "metadata": {},
   "outputs": [],
   "source": [
    "def recursive_page_finder(pages_found, more_pages, web_page, all_drill_tags):\n",
    "    new_pages = []\n",
    "    for page in more_pages:\n",
    "        drill_tags, new_tags = navigate_to_more_pages(page, web_page, all_drill_tags)\n",
    "        hidden_pages = find_more_pages(new_tags)  # further page links may be revealed upon subsequent page loadings\n",
    "        new_hidden_pages = [page for page in hidden_pages if page not in pages_found and page not in new_pages]\n",
    "        new_pages.append(new_hidden_pages)\n",
    "    new_pages = [item for sublist in new_pages for item in sublist]\n",
    "    if len(new_pages) > 1:\n",
    "        new_pages = list(set(new_pages))\n",
    "    return drill_tags, new_pages, len(new_hidden_pages)"
   ]
  },
  {
   "cell_type": "markdown",
   "metadata": {},
   "source": [
    "#### This function will navigate the website"
   ]
  },
  {
   "cell_type": "code",
   "execution_count": 12,
   "metadata": {},
   "outputs": [],
   "source": [
    "def navigate_to_more_pages(page, web_page, all_drill_tags):\n",
    "    # navigate to any other page and get tags that include 'drill' etc.\n",
    "    page = make_link(page, web_page)\n",
    "    new_response = get_web_address(page)\n",
    "    new_tags, new_texts = find_tags(new_response)\n",
    "    drill_tags = get_drill_tags(new_tags, new_texts, all_drill_tags, landing_page)\n",
    "    return drill_tags, new_tags"
   ]
  },
  {
   "cell_type": "markdown",
   "metadata": {},
   "source": [
    "#### This function will get all relevant tags for each calendar year"
   ]
  },
  {
   "cell_type": "code",
   "execution_count": 13,
   "metadata": {},
   "outputs": [],
   "source": [
    "def search_calendar_year(page, landing_page):\n",
    "    response = get_web_address(page)\n",
    "    try:\n",
    "        tags, texts = find_tags(response)\n",
    "    except:\n",
    "        return None\n",
    "    drill_tags = get_drill_tags(tags, texts, all_drill_tags, landing_page)  # get all tags on first page\n",
    "    more_pages = find_more_pages(tags)  # find out if there are other pages and remove duplicate links\n",
    "    if len(more_pages) == 0:\n",
    "        return drill_tags, tags, texts\n",
    "\n",
    "    found = more_pages\n",
    "    drill_tags, new_pages, count_hidden_pages = recursive_page_finder(found, more_pages, web_page, all_drill_tags)\n",
    "\n",
    "    while count_hidden_pages > 0:\n",
    "        found = found + new_pages\n",
    "        drill_tags, new_pages, count_hidden_pages = recursive_page_finder(found, new_pages, web_page, all_drill_tags)\n",
    "\n",
    "    return drill_tags, tags, texts"
   ]
  },
  {
   "cell_type": "markdown",
   "metadata": {},
   "source": [
    "#### Only websites that could be scraped successfully were used. Better error handling is required and a method to extract data from mutiple websites that use javascript needs to be developed."
   ]
  },
  {
   "cell_type": "code",
   "execution_count": 24,
   "metadata": {},
   "outputs": [],
   "source": [
    "# import dataset into Pandas Dataframe\n",
    "dataset = pd.read_csv(\"gold_companies_to_scrape.csv\")\n",
    "company_names = dataset['Full name']\n",
    "announcements_pages = dataset['Announcements']\n",
    "landing_pages = dataset['Web address']"
   ]
  },
  {
   "cell_type": "code",
   "execution_count": 25,
   "metadata": {},
   "outputs": [],
   "source": [
    "all_announcements = []\n",
    "for landing_page, web_page in zip(landing_pages, announcements_pages):\n",
    "    all_drill_tags = []\n",
    "    # get tags that include 'drill' for the current calendar year\n",
    "    drill_tags, tags, texts = search_calendar_year(web_page, landing_page)\n",
    "\n",
    "    # get tags that include 'drill' from 2010 - 2020\n",
    "    for tag, text in zip(tags, texts):\n",
    "        if text in ['2020', '2019', '2018', '2017', '2016', '2015', '2014', '2013', '2012', '2011', '2010']:\n",
    "            page = make_link(tag, landing_page)\n",
    "            try:\n",
    "                drill_tags, tags, texts = search_calendar_year(page, landing_page)\n",
    "            except:\n",
    "                pass\n",
    "\n",
    "    all_announcements.append(drill_tags)"
   ]
  },
  {
   "cell_type": "markdown",
   "metadata": {},
   "source": [
    "#### Store the data in a Pandas DataFrame. Drop duplicates and remove unwanted links. Save to CSV for further review."
   ]
  },
  {
   "cell_type": "code",
   "execution_count": 26,
   "metadata": {},
   "outputs": [
    {
     "name": "stdout",
     "output_type": "stream",
     "text": [
      "                 company name  \\\n",
      "0  RAMELIUS RESOURCES LIMITED   \n",
      "0  RAMELIUS RESOURCES LIMITED   \n",
      "0  RAMELIUS RESOURCES LIMITED   \n",
      "0  RAMELIUS RESOURCES LIMITED   \n",
      "0  RAMELIUS RESOURCES LIMITED   \n",
      "\n",
      "                                        announcement  \n",
      "0  https://www.rameliusresources.com.au/wp-conten...  \n",
      "0  https://www.rameliusresources.com.au/wp-conten...  \n",
      "0  https://www.rameliusresources.com.au/wp-conten...  \n",
      "0  https://www.rameliusresources.com.au/wp-conten...  \n",
      "0  https://www.rameliusresources.com.au/wp-conten...  \n"
     ]
    }
   ],
   "source": [
    "# create a Pandas DataFrame of announcement links and save to csv\n",
    "data = {'company name': company_names, 'announcement':  all_announcements}\n",
    "all_announcements = pd.DataFrame(data, columns=['company name', 'announcement'])\n",
    "all_announcements = all_announcements.explode('announcement')\n",
    "all_announcements.dropna(inplace=True)\n",
    "all_announcements = all_announcements[all_announcements['announcement'].str.contains('/file|pdf|PDF')]\n",
    "all_announcements = all_announcements[~all_announcements['announcement'].str.\n",
    "                                      contains('(?i)asx.com.au|annual|agm|egm|half|dividend|presentation|financial|'\n",
    "                                               'feasibility|full|meeting|spp|renounceable|entitlement|rights|'\n",
    "                                               'share|placement|metallurgical|scoping|appointment|nativetitle')]\n",
    "all_announcements = all_announcements.drop_duplicates()\n",
    "all_announcements.to_csv(\"gold_companies_announcements.csv\",  index=False)\n",
    "print(all_announcements.head())"
   ]
  },
  {
   "cell_type": "markdown",
   "metadata": {},
   "source": [
    "#### Import the CSV after review. Save announcements in PDF to disc (if working offline) . Load each PDF and extract text"
   ]
  },
  {
   "cell_type": "markdown",
   "metadata": {},
   "source": [
    "#### Install methods from the PDFminer.six modules needed for text extraction"
   ]
  },
  {
   "cell_type": "code",
   "execution_count": 35,
   "metadata": {},
   "outputs": [],
   "source": [
    "from pdfminer.converter import TextConverter\n",
    "from pdfminer.layout import LAParams\n",
    "from pdfminer.pdfdocument import PDFDocument\n",
    "from pdfminer.pdfinterp import PDFResourceManager, PDFPageInterpreter\n",
    "from pdfminer.pdfpage import PDFPage\n",
    "from pdfminer.pdfparser import PDFParser\n",
    "from nltk.corpus import stopwords\n",
    "import io"
   ]
  },
  {
   "cell_type": "code",
   "execution_count": 30,
   "metadata": {},
   "outputs": [],
   "source": [
    "# import dataset into Pandas Dataframe\n",
    "dataset = pd.read_csv(\"gold_companies_announcements.csv\")\n",
    "company_names = dataset['company name']\n",
    "announcements_pages = dataset['announcement']"
   ]
  },
  {
   "cell_type": "markdown",
   "metadata": {},
   "source": [
    "#### This function will save each PDF"
   ]
  },
  {
   "cell_type": "code",
   "execution_count": null,
   "metadata": {},
   "outputs": [],
   "source": [
    "def save_pdfs(announcements, folder):\n",
    "    for counter, announcement in enumerate(announcements):\n",
    "        print(counter, announcement)\n",
    "        filename = Path(os.path.join(folder, str(counter) + '.pdf'))\n",
    "        response = requests.get(announcement)\n",
    "        filename.write_bytes(response.content)\n",
    "    return"
   ]
  },
  {
   "cell_type": "markdown",
   "metadata": {},
   "source": [
    "#### This function will extract the text from each PDF"
   ]
  },
  {
   "cell_type": "code",
   "execution_count": 32,
   "metadata": {},
   "outputs": [],
   "source": [
    "def get_text(folder, pdf):\n",
    "    # response = requests.get(announcement)\n",
    "    # file = io.BytesIO(response.content)  # needed if reading PDF from URL\n",
    "    file = os.path.join(folder, pdf)\n",
    "    with open(file, 'rb') as open_file:\n",
    "        parser = PDFParser(open_file)\n",
    "        doc = PDFDocument(parser)\n",
    "        rsrcmgr = PDFResourceManager()\n",
    "        output_string = io.StringIO()\n",
    "        device = TextConverter(rsrcmgr, output_string, laparams=LAParams())\n",
    "        interpreter = PDFPageInterpreter(rsrcmgr, device)\n",
    "        for page in PDFPage.create_pages(doc):\n",
    "            interpreter.process_page(page)\n",
    "        text = output_string.getvalue()\n",
    "    return text"
   ]
  },
  {
   "cell_type": "markdown",
   "metadata": {},
   "source": [
    "#### This function will create a corpus"
   ]
  },
  {
   "cell_type": "code",
   "execution_count": 33,
   "metadata": {},
   "outputs": [],
   "source": [
    "def form_corpus(corpus, text, announcements_dict_list):\n",
    "    text = text.split()  # split string into individual words and store in list\n",
    "    text = [word.replace(' ', '') for word in text]  # remove spaces\n",
    "    text = [word for word in text if word]  # remove empty strings in list\n",
    "    text = [re.sub('[^a-zA-Z]', ' ', word) for word in text]  # remove punctuation\n",
    "    text = [word for word in text if word]  # remove empty strings in list\n",
    "    text = [word.lower() for word in text]  # convert to lower case\n",
    "    text = [re.sub(\"&lt;/?.*?&gt;\", \" &lt;&gt; \", word) for word in text]  # remove tags\n",
    "    text = [word for word in text if word.islower()]  # remove strings with only spaces\n",
    "    text = [word.strip() for word in text]  # remove leading and trailing spaces\n",
    "    text = ' '.join(str(e) for e in text)\n",
    "    corpus.append(text)\n",
    "    announcements_dict = {'text': text}\n",
    "    announcements_dict_list.append(announcements_dict)\n",
    "    return corpus, announcements_dict_list"
   ]
  },
  {
   "cell_type": "markdown",
   "metadata": {},
   "source": [
    "#### This function will save outputs to JSON"
   ]
  },
  {
   "cell_type": "code",
   "execution_count": 34,
   "metadata": {},
   "outputs": [],
   "source": [
    "def save_to_json(corpus, announcements_dict_list):\n",
    "    for filename, item in zip(['corpus', 'all_announcements'], [corpus, announcements_dict_list]):\n",
    "        with open(filename + '.json', 'w') as fp:\n",
    "            json.dump(item, fp)"
   ]
  },
  {
   "cell_type": "markdown",
   "metadata": {},
   "source": [
    "#### Loop through all PDFs and extract the text"
   ]
  },
  {
   "cell_type": "code",
   "execution_count": null,
   "metadata": {},
   "outputs": [],
   "source": [
    "# get the text from all PDFs and form corpus\n",
    "corpus = []\n",
    "announcements_dict_list = []\n",
    "stop_words = set(stopwords.words(\"english\"))  # create a set of stopwords\n",
    "files = os.listdir(folder)\n",
    "for file in files[0:1]:\n",
    "    print(file)\n",
    "    text = get_text(folder, file)\n",
    "\n",
    "corpus, announcements_dict_list = form_corpus(corpus, text, announcements_dict_list)  # all the text from every announcement"
   ]
  },
  {
   "cell_type": "markdown",
   "metadata": {},
   "source": [
    "#### Save the corpus and each announcement's text as a list of dictionaries"
   ]
  },
  {
   "cell_type": "code",
   "execution_count": null,
   "metadata": {},
   "outputs": [],
   "source": [
    "save_to_json(corpus, announcements_dict_list)"
   ]
  },
  {
   "cell_type": "code",
   "execution_count": null,
   "metadata": {},
   "outputs": [],
   "source": []
  }
 ],
 "metadata": {
  "kernelspec": {
   "display_name": "Python 3",
   "language": "python",
   "name": "python3"
  },
  "language_info": {
   "codemirror_mode": {
    "name": "ipython",
    "version": 3
   },
   "file_extension": ".py",
   "mimetype": "text/x-python",
   "name": "python",
   "nbconvert_exporter": "python",
   "pygments_lexer": "ipython3",
   "version": "3.8.5"
  }
 },
 "nbformat": 4,
 "nbformat_minor": 2
}
